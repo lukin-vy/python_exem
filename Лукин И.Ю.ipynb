{
 "cells": [
  {
   "cell_type": "markdown",
   "id": "4f6d30a5-3ff6-4d51-95b4-45b3ad887104",
   "metadata": {},
   "source": [
    "<h2>Задание 1</h2>\n",
    "<h3>Обратный порядок слов в блоках текста</h3>\n",
    "Дан текстовый файл, каждое предложение которого занимает одну строку. Напишите программу, которая разделяет текст на блоки — каждый блок состоит из нескольких предложений. Затем переворачивает порядок слов только внутри каждого предложения, не меняя порядок самих предложений в блоке."
   ]
  },
  {
   "cell_type": "code",
   "execution_count": 124,
   "id": "e358dcc7-7b68-4f3a-8039-f367ca9d0a60",
   "metadata": {},
   "outputs": [
    {
     "name": "stdout",
     "output_type": "stream",
     "text": [
      "***новый блок***\n",
      "дела как Привет\n",
      "дождь идет улице На\n",
      "***новый блок***\n",
      "программирование люблю Я\n"
     ]
    }
   ],
   "source": [
    "#Путь к файлу с данными\n",
    "sourse_file_path = 'lesson1.txt'\n",
    "#Количество предложений в блоке\n",
    "in_block = 2\n",
    "\n",
    "#Опишем функцию для переворота слов в предложении\n",
    "def revers_words(i_sentence):\n",
    "    #Удалим перенос на новую строку\n",
    "    i_sentence = i_sentence.rstrip()\n",
    "    #Разделим слова по пробелу\n",
    "    words_list = i_sentence.split(' ')\n",
    "    #Развернем текст\n",
    "    words_list.reverse()\n",
    "    return ' '.join(words_list)\n",
    "\n",
    "#Читаем исходный файл\n",
    "read_file = open(sourse_file_path, \"r\", encoding=\"utf-8\")\n",
    "for line_index, line_text in enumerate(read_file):\n",
    "    #Добавим разделитель блока \n",
    "    if (line_index) % in_block == 0:\n",
    "        print('***новый блок***')\n",
    "    #Выведем результат\n",
    "    print(revers_words(line_text))\n",
    "read_file.close()"
   ]
  },
  {
   "cell_type": "markdown",
   "id": "71df0555-03dd-4cfc-a3d3-6033825b6151",
   "metadata": {},
   "source": [
    "<h2>Задание 2</h2>\n",
    "Напишите функцию, которая принимает строку и сжимает её определённым образом. Строки содержат произвольные символы, включая пробелы и спецсимволы, и требуют точного учета длины при кодировании. Сжатие строки происходит сериями одинаковых символов в формате символколичество, но только если длина сжатой строки не превышает исходную."
   ]
  },
  {
   "cell_type": "code",
   "execution_count": 121,
   "id": "ea2c9460-7e4f-461f-83cd-78d1c2294735",
   "metadata": {},
   "outputs": [
    {
     "name": "stdout",
     "output_type": "stream",
     "text": [
      "Введите текст\n"
     ]
    },
    {
     "name": "stdin",
     "output_type": "stream",
     "text": [
      " aaabbc\n"
     ]
    },
    {
     "name": "stdout",
     "output_type": "stream",
     "text": [
      "Результат: a3b2c\n"
     ]
    }
   ],
   "source": [
    "#Получим текст от пользователя\n",
    "print('Введите текст')\n",
    "input_text = input()\n",
    "\n",
    "new_text = ''\n",
    "lust_letter = input_text[0]\n",
    "count_letter = 0\n",
    "\n",
    "#Опишем функцию сжатия строки\n",
    "def compress_str(i_letter, i_count):\n",
    "    #Если буква повторялась более 1 раза\n",
    "    if i_count > 1:\n",
    "        return ( i_letter + str(i_count) )\n",
    "    else:\n",
    "        return i_letter\n",
    "\n",
    "#В цикле пройдемся по всем буквам\n",
    "for current_letter in input_text:\n",
    "    if lust_letter == current_letter:\n",
    "        #Если предыдущая буква = текущей, увеличиваем счетчик\n",
    "        count_letter += 1\n",
    "    else:\n",
    "        new_text += compress_str(lust_letter, count_letter)\n",
    "        #Обновим переменные\n",
    "        lust_letter = current_letter\n",
    "        count_letter = 1\n",
    "else:\n",
    "    #При успешном завершении цикла запишем последнюю букву\n",
    "    new_text += compress_str(lust_letter, count_letter)\n",
    "        \n",
    "#Выведем результат\n",
    "print('Результат:', new_text)\n"
   ]
  },
  {
   "cell_type": "markdown",
   "id": "49fb5548-9e8e-47f8-b14c-c24e9352b971",
   "metadata": {},
   "source": [
    "<h2>Задание 3</h2>\n",
    "<h3>Хаотичные скобки</h3>\n",
    "Реализуйте функцию, которая проверяет, правильно ли расставлены скобки в строке (включая круглые, квадратные и фигурные скобки)."
   ]
  },
  {
   "cell_type": "code",
   "execution_count": 122,
   "id": "a895c67f-72c7-4ff1-aae6-bffbc370eba5",
   "metadata": {},
   "outputs": [
    {
     "name": "stdout",
     "output_type": "stream",
     "text": [
      "Введите текст с скобками\n"
     ]
    },
    {
     "name": "stdin",
     "output_type": "stream",
     "text": [
      " (())([])({})\n"
     ]
    },
    {
     "name": "stdout",
     "output_type": "stream",
     "text": [
      "Правильная последовательность\n"
     ]
    }
   ],
   "source": [
    "#Импортируем deque\n",
    "from collections import deque\n",
    "\n",
    "#Получим строку от пользователя\n",
    "print('Введите текст с скобками')\n",
    "input_str = input()\n",
    "\n",
    "#Объявляем стэк\n",
    "bracket_stack = deque()\n",
    "\n",
    "#Функция возвращающая симметричную скобку\n",
    "def get_symmetrical_bracket(i_bracket):\n",
    "    if i_bracket == '(':\n",
    "        return ')'\n",
    "    if i_bracket == '[':\n",
    "        return ']'\n",
    "    if i_bracket == '{':\n",
    "        return '}'\n",
    "    if i_bracket == ')':\n",
    "        return '('\n",
    "    if i_bracket == ']':\n",
    "        return '['\n",
    "    if i_bracket == '}':\n",
    "        return '{'\n",
    "\n",
    "#Пройдемся по всем символам текста\n",
    "for letter in input_str:\n",
    "    #Если одна из открывающих скобок, добавляем скобку в стэк\n",
    "    if letter in '([{':\n",
    "        bracket_stack.append(letter)\n",
    "        continue\n",
    "    #Если одна из закрывающих скобок\n",
    "    if letter in '}])':\n",
    "        #Если текущая скобка закрывает последнюю в стеке\n",
    "        \n",
    "        if len(bracket_stack) > 0 and get_symmetrical_bracket(letter) == bracket_stack[-1]:\n",
    "            #Удаляем из стека\n",
    "            bracket_stack.pop()\n",
    "\n",
    "if len(bracket_stack) == 0:\n",
    "    print('Правильная последовательность')\n",
    "else:\n",
    "    print('Последовательность не правильная')"
   ]
  },
  {
   "cell_type": "markdown",
   "id": "56160578-fcd2-4c7d-b062-61e3c71ed26e",
   "metadata": {},
   "source": [
    "<h2>Задание 4</h2>\n",
    "<h3>Генератор случайных паролей</h3>\n",
    "Напишите функцию, которая генерирует пароль заданной длины. В реализации надо учитывать, что:\n",
    "\n",
    "+ Пароль должен содержать буквы, цифры и специальные символы.\n",
    "+ Длина пароля задается пользователем.\n"
   ]
  },
  {
   "cell_type": "code",
   "execution_count": 5,
   "id": "05da216a-b5c6-4d12-8a7b-ad289fb6249f",
   "metadata": {},
   "outputs": [
    {
     "name": "stdout",
     "output_type": "stream",
     "text": [
      "Введите длину пароля\n"
     ]
    },
    {
     "name": "stdin",
     "output_type": "stream",
     "text": [
      " 10\n"
     ]
    },
    {
     "name": "stdout",
     "output_type": "stream",
     "text": [
      "Случайный пароль: CBwvsU9!)7\n"
     ]
    }
   ],
   "source": [
    "#Подключаем нужные библиотеки\n",
    "import string\n",
    "import random\n",
    "\n",
    "#Получим длину пароля\n",
    "print('Введите длину пароля')\n",
    "password_len = int(input())\n",
    "\n",
    "#Составим список из списков с символами\n",
    "chars_group = list()\n",
    "chars_group.append(string.ascii_lowercase) #Добавляем список букв в нижнем регистре\n",
    "chars_group.append(string.ascii_uppercase) #Добавляем список букв в верхнем регистре\n",
    "chars_group.append(string.digits) #Добавляем список цифр\n",
    "chars_group.append(string.punctuation) #Добавляем список знаков\n",
    "\n",
    "result_password = list()\n",
    "\n",
    "for i in range(password_len):\n",
    "    #группу символов берем по очереди\n",
    "    group_index = i%4\n",
    "    #выберем случайный индекс символа\n",
    "    simbol_index = random.randint(0, len(chars_group[group_index])-1)\n",
    "    #К результату прибавим новый символ\n",
    "    result_password.append(chars_group[group_index][simbol_index])\n",
    "\n",
    "#Перемешаем случайный пароль\n",
    "random.shuffle(result_password)\n",
    "result_password = ''.join(result_password)\n",
    "\n",
    "print('Случайный пароль:', result_password)"
   ]
  },
  {
   "cell_type": "markdown",
   "id": "94beb6bf-30d0-45e9-91a1-fa56a0ec9e2f",
   "metadata": {},
   "source": [
    "<h2>Задание 5</h2>\n",
    "<h3>Эмуляция работы электронной очереди</h3>\n",
    "Напишите класс для симуляции работы электронной очереди, например, в банке."
   ]
  },
  {
   "cell_type": "code",
   "execution_count": 120,
   "id": "9f29eb0f-e5d7-48f1-b06d-9356ed0d2829",
   "metadata": {},
   "outputs": [
    {
     "name": "stdout",
     "output_type": "stream",
     "text": [
      "Обработан VIP-клиент Смирнов Лев Константинович*\n",
      " Время обработки: 3 минут.\n",
      "Обработан VIP-клиент Прокофьева Амина Михайловна*\n",
      " Время обработки: 1 минут.\n",
      "Обработан клиент Горбачев Даниил Константинович\n",
      " Время обработки: 4 минут.\n",
      "Обработан клиент Зайцев Михаил Константинович\n",
      " Время обработки: 9 минут.\n",
      "Обработан клиент Беляев Михаил Тимофеевич\n",
      " Время обработки: 7 минут.\n",
      "Обработан клиент Соболева Ольга Егоровна\n",
      " Время обработки: 5 минут.\n",
      "\n",
      "Отчет о времени обслуживания клиентов:\n",
      "Дата и время начала: 11.01.25 19:12:15\n",
      "\n",
      "Клиент Смирнов Лев Константинович*\n",
      "Время начала 19:12:15\t продолжительность в минутах: 3\n",
      "\n",
      "Клиент Прокофьева Амина Михайловна*\n",
      "Время начала 19:12:15\t продолжительность в минутах: 1\n",
      "\n",
      "Клиент Горбачев Даниил Константинович\n",
      "Время начала 19:12:15\t продолжительность в минутах: 4\n",
      "\n",
      "Клиент Зайцев Михаил Константинович\n",
      "Время начала 19:12:15\t продолжительность в минутах: 9\n",
      "\n",
      "Клиент Беляев Михаил Тимофеевич\n",
      "Время начала 19:12:15\t продолжительность в минутах: 7\n",
      "\n",
      "Клиент Соболева Ольга Егоровна\n",
      "Время начала 19:12:15\t продолжительность в минутах: 5\n",
      "\n",
      "Дата и время окончания: 11.01.25 19:41:15\n",
      "Общее время обслуживания: 0:29:00\n"
     ]
    }
   ],
   "source": [
    "#Подключаем нужные библиотеки\n",
    "import datetime\n",
    "import random\n",
    "from datetime import datetime, timedelta\n",
    "\n",
    "class Queue:\n",
    "    def __init__(self):\n",
    "        self.queue = []\n",
    "        self.start_time = None\n",
    "        self.end_time = None\n",
    "        self.processing_times = []\n",
    "\n",
    "    def add_client(self, name, vip = False):\n",
    "        #Добавляем клиента в очередь\n",
    "        self.queue.append(\n",
    "            {\n",
    "                \"vip\": vip,\n",
    "                \"name\": name,\n",
    "                \"arrival_time\": datetime.now()\n",
    "            }\n",
    "        )\n",
    "\n",
    "    def process_next_client(self):\n",
    "        #Обработать следующего клиента\n",
    "        if not self.queue:\n",
    "            return None  # Очередь пуста\n",
    "\n",
    "        # Сортируем клиентов по приоритету VIP и времени прибытия.\n",
    "        self.queue.sort(key=lambda client: (-client['vip'], client['arrival_time']))\n",
    "\n",
    "        #Берем первого в очереди\n",
    "        client = self.queue.pop(0)\n",
    "        #Симуляция работы. Получим случайное число минут от 1 до 10\n",
    "        processing_time = random.randint(1, 10)\n",
    "\n",
    "        #Если еще не работали, засекаем время\n",
    "        if not self.start_time:\n",
    "            self.start_time = datetime.now()\n",
    "            self.end_time = datetime.now()\n",
    "\n",
    "        #Ко времени окончания добавляем время работы с клиентом\n",
    "        self.end_time += timedelta(minutes=processing_time)\n",
    "        self.processing_times.append(\n",
    "            {\n",
    "                \"client_name\":client[\"name\"],\n",
    "                \"start_time\": client[\"arrival_time\"],\n",
    "                \"duration\": processing_time\n",
    "            }\n",
    "        )\n",
    "        if client['vip']:\n",
    "            print('Обработан VIP-клиент', client['name'])\n",
    "        else:\n",
    "            print('Обработан клиент', client['name'])\n",
    "        print(f\" Время обработки: {processing_time} минут.\")\n",
    "        return client\n",
    "\n",
    "    def generate_report(self):\n",
    "        #Импровизированный отчет о работе\n",
    "        if not self.processing_times:\n",
    "            return \"Нет данных о обработке клиентов.\"\n",
    "        \n",
    "        report = \"\\nОтчет о времени обслуживания клиентов:\\n\"\n",
    "        report += \"Дата и время начала: \" + self.start_time.strftime('%d.%m.%y %H:%M:%S') + \"\\n\\n\"\n",
    "        total_time = timedelta(0)\n",
    "        for completed in self.processing_times:\n",
    "            report += f\"Клиент {completed['client_name']}\\n\"\n",
    "            report += f\"Время начала {completed['start_time'].strftime('%H:%M:%S')}\\t продолжительность в минутах: {completed['duration']}\\n\\n\"\n",
    "            total_time += timedelta(minutes=completed['duration'])\n",
    "\n",
    "        report += \"Дата и время окончания: \" + self.end_time.strftime('%d.%m.%y %H:%M:%S')\n",
    "        \n",
    "        report += f\"\\nОбщее время обслуживания: {total_time}\"\n",
    "        return report\n",
    "\n",
    "\n",
    "# Пример использования:\n",
    "queue = Queue()\n",
    "queue.add_client(\"Горбачев Даниил Константинович\")\n",
    "queue.add_client(\"Зайцев Михаил Константинович\")\n",
    "queue.add_client(\"Смирнов Лев Константинович*\", vip = True)\n",
    "queue.add_client(\"Беляев Михаил Тимофеевич\")\n",
    "queue.add_client(\"Соболева Ольга Егоровна\")\n",
    "queue.add_client(\"Прокофьева Амина Михайловна*\", vip = True)\n",
    "\n",
    "queue.process_next_client()\n",
    "queue.process_next_client()\n",
    "queue.process_next_client()\n",
    "queue.process_next_client()\n",
    "queue.process_next_client()\n",
    "queue.process_next_client()\n",
    "\n",
    "report = queue.generate_report()\n",
    "print(report)"
   ]
  },
  {
   "cell_type": "markdown",
   "id": "c49c035b-a915-47a8-9362-37c89eb26c0a",
   "metadata": {},
   "source": [
    "<h2>Задание 6</h2>\n",
    "<h3>Проверка на «почти палиндром»</h3>\n",
    "Напишите программу, которая проверяет, является ли строка палиндромом или «почти палиндромом». «Почти палиндром» означает, что можно удалить одну букву, чтобы строка стала палиндромом."
   ]
  },
  {
   "cell_type": "code",
   "execution_count": 45,
   "id": "92ffe39d-fb9f-4eeb-9ed3-44c8acff7a38",
   "metadata": {},
   "outputs": [
    {
     "name": "stdout",
     "output_type": "stream",
     "text": [
      "Введите палиндром\n"
     ]
    },
    {
     "name": "stdin",
     "output_type": "stream",
     "text": [
      " Уж редко рукою окурок держу\n"
     ]
    },
    {
     "name": "stdout",
     "output_type": "stream",
     "text": [
      "Текст палиндром\n"
     ]
    }
   ],
   "source": [
    "#Получим текст от пользователя\n",
    "print('Введите палиндром')\n",
    "input_text = input()\n",
    "\n",
    "#Из текста удалим все пробелы и основные знаки препинания\n",
    "input_text = input_text.replace(\" \", \"\")\n",
    "input_text = input_text.replace(\".\", \"\")\n",
    "input_text = input_text.replace(\",\", \"\")\n",
    "#Приведем текст к единому регистру\n",
    "input_text = list(input_text.lower())\n",
    "\n",
    "#Получим перевернутую строку\n",
    "revers_text = list(input_text[::-1])\n",
    "\n",
    "#Получим количество несоответствующих букв\n",
    "index = 0\n",
    "wrong_letter = 0\n",
    "while index < len(input_text) // 2:\n",
    "    #Если ошибок более 2х прекращаем поиск\n",
    "    if wrong_letter > 1:\n",
    "        break\n",
    "    #Проверим что буквы с начала и конца совпали\n",
    "    if input_text[index] == revers_text[index]:\n",
    "        index += 1\n",
    "        continue\n",
    "    else:\n",
    "        #Если буквы не совпали проверяем соседние\n",
    "        if input_text[index] == revers_text[index+1]:\n",
    "            #Удаляем неправильную букву\n",
    "            revers_text.pop(index)\n",
    "            wrong_letter += 1\n",
    "            index +=1\n",
    "        elif input_text[index+1] == revers_text[index]:\n",
    "            #Удаляем неправильную букву\n",
    "            input_text.pop(index)\n",
    "            wrong_letter += 1\n",
    "        else:\n",
    "            #Если соседние буквы тоже не сходятся, то явно не палиндром\n",
    "            wrong_letter +=2\n",
    "            break\n",
    "\n",
    "if wrong_letter == 0:\n",
    "    print('Текст палиндром')\n",
    "elif wrong_letter == 1:\n",
    "    print('Текст почти палиндром')\n",
    "else:\n",
    "    print('Текст не палиндром')\n"
   ]
  },
  {
   "cell_type": "markdown",
   "id": "0908b5b7-2af5-4e04-a5fa-e829a75f3e33",
   "metadata": {},
   "source": [
    "<h2>Задание 7</h2>\n",
    "<h3>Задача Шредингера</h3>\n",
    "Разработайте программу, которая «стирает» фрагменты текста в файле. Например:\n",
    "\n",
    "+ Пользователь указывает файл и процент текста, который нужно удалить (например, 30%).\n",
    "+ Программа случайно выбирает слова или части абзацев и заменяет их на пробел или ..., сохраняя общий объем документа.\n",
    "\n",
    "Вход:\n",
    "«Сегодня солнечный день, и я собираюсь гулять в парке с моими друзьями.»\n",
    "\n",
    "Вывод (удалено ~30%):\n",
    "«Сегодня ... день, и я собираюсь гулять ... моими друзьями.»"
   ]
  },
  {
   "cell_type": "code",
   "execution_count": 125,
   "id": "9081298b-6d06-442e-9be2-45544a83da7c",
   "metadata": {},
   "outputs": [
    {
     "name": "stdout",
     "output_type": "stream",
     "text": [
      "Введите долю удаления\n"
     ]
    },
    {
     "name": "stdin",
     "output_type": "stream",
     "text": [
      " 30\n"
     ]
    },
    {
     "name": "stdout",
     "output_type": "stream",
     "text": [
      "Удалено ~30% Сегодня солнечный день, и ... собираюсь ... ... парке с ... друзьями.\n",
      "\n"
     ]
    }
   ],
   "source": [
    "#Подключаем нужные библиотеки\n",
    "import random\n",
    "\n",
    "#Путь к файлу с данными\n",
    "sourse_file_path = 'lesson7.txt'\n",
    "#Процент удаления\n",
    "print('Введите долю удаления')\n",
    "delete_pers = int(input())\n",
    "\n",
    "#Прочитаем файл\n",
    "read_file = open(sourse_file_path, \"r\", encoding=\"utf-8\")\n",
    "text = read_file.read()\n",
    "read_file.close()\n",
    "\n",
    "words_text = text.split(' ')\n",
    "#Общее количество символов\n",
    "words_count = sum(map(lambda w: len(w), words_text))\n",
    "#Количество символов для удаления\n",
    "delete_plan = round(words_count / 100 * delete_pers, 0)\n",
    "delete_fakt = 0\n",
    "\n",
    "for word_index, word_text in enumerate(words_text):\n",
    "    #Получим случайный индекс слова слова\n",
    "    random_index = random.randint(0, len(words_text)-1)\n",
    "    random_word = words_text[word_index]\n",
    "    #Если слово помещается в остаток на удаление:\n",
    "    if delete_plan - delete_fakt > len(random_word):\n",
    "        word_text = random_word\n",
    "        word_index = random_index\n",
    "    else:\n",
    "        #Проверяем можем ли мы взять слово которое обрабатываем\n",
    "        if delete_plan - delete_fakt < len(word_text):\n",
    "            #Если и случайное слово и рандомное не подходит\n",
    "            #То пропускаем\n",
    "            continue\n",
    "    \n",
    "    #Запомним основные знак пунктуации\n",
    "    if word_text[-1] == '.':\n",
    "        punct_mark = '.'\n",
    "    elif word_text[-1] == ',':\n",
    "        punct_mark = ','\n",
    "    elif word_text[-1] == ';':\n",
    "        punct_mark = ';'\n",
    "    elif word_text[-1] == ':':\n",
    "        punct_mark = ':'\n",
    "    elif word_text[-1] == '\\n':\n",
    "        punct_mark = '\\n'\n",
    "    else:\n",
    "        punct_mark = ''\n",
    "    #Вычитаем длинну слова\n",
    "    if punct_mark == '':\n",
    "        delete_fakt += len(word_text)\n",
    "    else:\n",
    "        delete_fakt += len(word_text) - 1\n",
    "    #Заменяем слово на ... и добавляем знак препинания\n",
    "    words_text[word_index] = '...' + punct_mark\n",
    "\n",
    "#Соберем текст\n",
    "new_text = ' '.join(words_text)\n",
    "#Получим процент удаления\n",
    "delete_pers = int(delete_fakt / words_count * 100)\n",
    "print('Удалено ~' + str(delete_pers) + '%', new_text)\n",
    "\n",
    "#Сохраним в новый файл\n",
    "file_write = open('lesson7_result.txt', 'w')\n",
    "file_write.write(new_text)\n",
    "file_write.close()"
   ]
  }
 ],
 "metadata": {
  "kernelspec": {
   "display_name": "Python 3 (ipykernel)",
   "language": "python",
   "name": "python3"
  },
  "language_info": {
   "codemirror_mode": {
    "name": "ipython",
    "version": 3
   },
   "file_extension": ".py",
   "mimetype": "text/x-python",
   "name": "python",
   "nbconvert_exporter": "python",
   "pygments_lexer": "ipython3",
   "version": "3.12.4"
  }
 },
 "nbformat": 4,
 "nbformat_minor": 5
}
